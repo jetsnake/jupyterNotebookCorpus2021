{
 "cells": [
  {
   "cell_type": "code",
   "execution_count": 1,
   "id": "7e59cb89",
   "metadata": {},
   "outputs": [],
   "source": [
    "import requests\n",
    "import pandas as pd\n",
    "from langdetect import detect"
   ]
  },
  {
   "cell_type": "code",
   "execution_count": 2,
   "id": "ec5fc8a4",
   "metadata": {},
   "outputs": [],
   "source": [
    "def detectLanguage(row):\n",
    "    text = row['content']\n",
    "    try:\n",
    "        language = detect(text)\n",
    "    except:\n",
    "        language = None\n",
    "    return language"
   ]
  },
  {
   "cell_type": "code",
   "execution_count": 3,
   "id": "6284d9cc",
   "metadata": {},
   "outputs": [],
   "source": [
    "def countCallFunc(row):\n",
    "    code = row['content']\n",
    "    indParanthesis = code.find('(')\n",
    "    if indParanthesis == -1:\n",
    "        return 0\n",
    "    else:\n",
    "        count = 0\n",
    "        while indParanthesis != -1:\n",
    "            indSharp = code.rfind('#', 0, indParanthesis)\n",
    "            indEndLine = code.rfind('\\n', 0, indParanthesis)\n",
    "            if indEndLine > indSharp:\n",
    "                count += 1\n",
    "            indParanthesis = code.find('(', indParanthesis+1)\n",
    "        return count"
   ]
  },
  {
   "cell_type": "code",
   "execution_count": 4,
   "id": "0348cba1",
   "metadata": {},
   "outputs": [],
   "source": [
    "urlPath = 'https://github-notebooks-update1.s3-eu-west-1.amazonaws.com/'\n",
    "jupyterName = '329d7c6ec39129989b197d2429953958734b1b79.ipynb'"
   ]
  },
  {
   "cell_type": "code",
   "execution_count": 5,
   "id": "ada3d8c1",
   "metadata": {},
   "outputs": [],
   "source": [
    "jnb = requests.get(urlPath + '329d7c6ec39129989b197d2429953958734b1b79.ipynb').json()"
   ]
  },
  {
   "cell_type": "code",
   "execution_count": 6,
   "id": "58456444",
   "metadata": {},
   "outputs": [
    {
     "name": "stdout",
     "output_type": "stream",
     "text": [
      "nbformat:              4\n",
      "Python version: Python 3\n"
     ]
    }
   ],
   "source": [
    "pVer = 'Python version: ' + jnb['metadata']['kernelspec']['display_name']\n",
    "print('nbformat:', str(jnb['nbformat']).rjust(len(pVer) - len('nbformat:') - 1))\n",
    "print(pVer)"
   ]
  },
  {
   "cell_type": "code",
   "execution_count": 7,
   "id": "6cd4a51f",
   "metadata": {},
   "outputs": [],
   "source": [
    "columns = ['cell_id', 'cell_type', 'content']\n",
    "data = []"
   ]
  },
  {
   "cell_type": "code",
   "execution_count": 8,
   "id": "dfe871e7",
   "metadata": {},
   "outputs": [],
   "source": [
    "for cell in jnb['cells']:\n",
    "    data.append([cell['metadata']['id'], cell['cell_type'], ''.join(cell['source'])])"
   ]
  },
  {
   "cell_type": "code",
   "execution_count": 9,
   "id": "d3b97a26",
   "metadata": {},
   "outputs": [],
   "source": [
    "df = pd.DataFrame(data = data, columns = columns)"
   ]
  },
  {
   "cell_type": "code",
   "execution_count": 10,
   "id": "36906224",
   "metadata": {},
   "outputs": [
    {
     "data": {
      "text/html": [
       "<div>\n",
       "<style scoped>\n",
       "    .dataframe tbody tr th:only-of-type {\n",
       "        vertical-align: middle;\n",
       "    }\n",
       "\n",
       "    .dataframe tbody tr th {\n",
       "        vertical-align: top;\n",
       "    }\n",
       "\n",
       "    .dataframe thead th {\n",
       "        text-align: right;\n",
       "    }\n",
       "</style>\n",
       "<table border=\"1\" class=\"dataframe\">\n",
       "  <thead>\n",
       "    <tr style=\"text-align: right;\">\n",
       "      <th></th>\n",
       "      <th>cell_id</th>\n",
       "      <th>cell_type</th>\n",
       "      <th>content</th>\n",
       "    </tr>\n",
       "  </thead>\n",
       "  <tbody>\n",
       "    <tr>\n",
       "      <th>0</th>\n",
       "      <td>2h-2I4CviFCR</td>\n",
       "      <td>code</td>\n",
       "      <td># activate R magic\\n%load_ext rpy2.ipython</td>\n",
       "    </tr>\n",
       "    <tr>\n",
       "      <th>1</th>\n",
       "      <td>dtkChhxpiWEd</td>\n",
       "      <td>markdown</td>\n",
       "      <td>%%R\\n#**Remodelagem de Dados com R** \\n\\n</td>\n",
       "    </tr>\n",
       "    <tr>\n",
       "      <th>2</th>\n",
       "      <td>SQ7FqxHo94I5</td>\n",
       "      <td>markdown</td>\n",
       "      <td>**tidyr** - Remodelagem de Dados, **Formatação...</td>\n",
       "    </tr>\n",
       "    <tr>\n",
       "      <th>3</th>\n",
       "      <td>e9LawpdlRsqB</td>\n",
       "      <td>markdown</td>\n",
       "      <td>---</td>\n",
       "    </tr>\n",
       "    <tr>\n",
       "      <th>4</th>\n",
       "      <td>H0wA38-qIhZj</td>\n",
       "      <td>markdown</td>\n",
       "      <td>\\n#**tidyr - Remodelagem de Dados**</td>\n",
       "    </tr>\n",
       "    <tr>\n",
       "      <th>...</th>\n",
       "      <td>...</td>\n",
       "      <td>...</td>\n",
       "      <td>...</td>\n",
       "    </tr>\n",
       "    <tr>\n",
       "      <th>91</th>\n",
       "      <td>8Yzmwzfi6Bc8</td>\n",
       "      <td>markdown</td>\n",
       "      <td>#**Principais diferenças entre melt() X dcast()**</td>\n",
       "    </tr>\n",
       "    <tr>\n",
       "      <th>92</th>\n",
       "      <td>x3dFhD005SyR</td>\n",
       "      <td>code</td>\n",
       "      <td>%%R\\ndf_wide &lt;- melt(airquality, id.vars = c(\"...</td>\n",
       "    </tr>\n",
       "    <tr>\n",
       "      <th>93</th>\n",
       "      <td>oqY6mDiefGac</td>\n",
       "      <td>code</td>\n",
       "      <td>%%R \\n#melt()\\ndf_wide &lt;- melt(airquality, id....</td>\n",
       "    </tr>\n",
       "    <tr>\n",
       "      <th>94</th>\n",
       "      <td>CWXYrlcT7DPz</td>\n",
       "      <td>markdown</td>\n",
       "      <td>##Variáveis abaixo identificadas de maneira única</td>\n",
       "    </tr>\n",
       "    <tr>\n",
       "      <th>95</th>\n",
       "      <td>h65iTOt36jsd</td>\n",
       "      <td>code</td>\n",
       "      <td>%%R \\n#dcast()\\n# mais colunas, mais esticado ...</td>\n",
       "    </tr>\n",
       "  </tbody>\n",
       "</table>\n",
       "<p>96 rows × 3 columns</p>\n",
       "</div>"
      ],
      "text/plain": [
       "         cell_id cell_type                                            content\n",
       "0   2h-2I4CviFCR      code         # activate R magic\\n%load_ext rpy2.ipython\n",
       "1   dtkChhxpiWEd  markdown          %%R\\n#**Remodelagem de Dados com R** \\n\\n\n",
       "2   SQ7FqxHo94I5  markdown  **tidyr** - Remodelagem de Dados, **Formatação...\n",
       "3   e9LawpdlRsqB  markdown                                                ---\n",
       "4   H0wA38-qIhZj  markdown                \\n#**tidyr - Remodelagem de Dados**\n",
       "..           ...       ...                                                ...\n",
       "91  8Yzmwzfi6Bc8  markdown  #**Principais diferenças entre melt() X dcast()**\n",
       "92  x3dFhD005SyR      code  %%R\\ndf_wide <- melt(airquality, id.vars = c(\"...\n",
       "93  oqY6mDiefGac      code  %%R \\n#melt()\\ndf_wide <- melt(airquality, id....\n",
       "94  CWXYrlcT7DPz  markdown  ##Variáveis abaixo identificadas de maneira única\n",
       "95  h65iTOt36jsd      code  %%R \\n#dcast()\\n# mais colunas, mais esticado ...\n",
       "\n",
       "[96 rows x 3 columns]"
      ]
     },
     "execution_count": 10,
     "metadata": {},
     "output_type": "execute_result"
    }
   ],
   "source": [
    "df"
   ]
  },
  {
   "cell_type": "code",
   "execution_count": 11,
   "id": "c6585d38",
   "metadata": {},
   "outputs": [],
   "source": [
    "dfMark = df.copy().loc[df['cell_type'] == 'markdown']"
   ]
  },
  {
   "cell_type": "code",
   "execution_count": 12,
   "id": "af863bfe",
   "metadata": {
    "scrolled": true
   },
   "outputs": [
    {
     "data": {
      "text/html": [
       "<div>\n",
       "<style scoped>\n",
       "    .dataframe tbody tr th:only-of-type {\n",
       "        vertical-align: middle;\n",
       "    }\n",
       "\n",
       "    .dataframe tbody tr th {\n",
       "        vertical-align: top;\n",
       "    }\n",
       "\n",
       "    .dataframe thead th {\n",
       "        text-align: right;\n",
       "    }\n",
       "</style>\n",
       "<table border=\"1\" class=\"dataframe\">\n",
       "  <thead>\n",
       "    <tr style=\"text-align: right;\">\n",
       "      <th></th>\n",
       "      <th>cell_id</th>\n",
       "      <th>cell_type</th>\n",
       "      <th>content</th>\n",
       "    </tr>\n",
       "  </thead>\n",
       "  <tbody>\n",
       "    <tr>\n",
       "      <th>1</th>\n",
       "      <td>dtkChhxpiWEd</td>\n",
       "      <td>markdown</td>\n",
       "      <td>%%R\\n#**Remodelagem de Dados com R** \\n\\n</td>\n",
       "    </tr>\n",
       "    <tr>\n",
       "      <th>2</th>\n",
       "      <td>SQ7FqxHo94I5</td>\n",
       "      <td>markdown</td>\n",
       "      <td>**tidyr** - Remodelagem de Dados, **Formatação...</td>\n",
       "    </tr>\n",
       "    <tr>\n",
       "      <th>3</th>\n",
       "      <td>e9LawpdlRsqB</td>\n",
       "      <td>markdown</td>\n",
       "      <td>---</td>\n",
       "    </tr>\n",
       "    <tr>\n",
       "      <th>4</th>\n",
       "      <td>H0wA38-qIhZj</td>\n",
       "      <td>markdown</td>\n",
       "      <td>\\n#**tidyr - Remodelagem de Dados**</td>\n",
       "    </tr>\n",
       "    <tr>\n",
       "      <th>6</th>\n",
       "      <td>S1yYa43f8Ypq</td>\n",
       "      <td>markdown</td>\n",
       "      <td>## Dados de notas em disciplinas\\n</td>\n",
       "    </tr>\n",
       "  </tbody>\n",
       "</table>\n",
       "</div>"
      ],
      "text/plain": [
       "        cell_id cell_type                                            content\n",
       "1  dtkChhxpiWEd  markdown          %%R\\n#**Remodelagem de Dados com R** \\n\\n\n",
       "2  SQ7FqxHo94I5  markdown  **tidyr** - Remodelagem de Dados, **Formatação...\n",
       "3  e9LawpdlRsqB  markdown                                                ---\n",
       "4  H0wA38-qIhZj  markdown                \\n#**tidyr - Remodelagem de Dados**\n",
       "6  S1yYa43f8Ypq  markdown                 ## Dados de notas em disciplinas\\n"
      ]
     },
     "execution_count": 12,
     "metadata": {},
     "output_type": "execute_result"
    }
   ],
   "source": [
    "dfMark.head()"
   ]
  },
  {
   "cell_type": "code",
   "execution_count": 13,
   "id": "b4aa332f",
   "metadata": {},
   "outputs": [],
   "source": [
    "dfMark.loc[:, 'language'] = dfMark.apply(detectLanguage, axis=1)"
   ]
  },
  {
   "cell_type": "code",
   "execution_count": 14,
   "id": "19930670",
   "metadata": {
    "scrolled": true
   },
   "outputs": [
    {
     "data": {
      "text/html": [
       "<div>\n",
       "<style scoped>\n",
       "    .dataframe tbody tr th:only-of-type {\n",
       "        vertical-align: middle;\n",
       "    }\n",
       "\n",
       "    .dataframe tbody tr th {\n",
       "        vertical-align: top;\n",
       "    }\n",
       "\n",
       "    .dataframe thead th {\n",
       "        text-align: right;\n",
       "    }\n",
       "</style>\n",
       "<table border=\"1\" class=\"dataframe\">\n",
       "  <thead>\n",
       "    <tr style=\"text-align: right;\">\n",
       "      <th></th>\n",
       "      <th>cell_id</th>\n",
       "      <th>cell_type</th>\n",
       "      <th>content</th>\n",
       "      <th>language</th>\n",
       "    </tr>\n",
       "  </thead>\n",
       "  <tbody>\n",
       "    <tr>\n",
       "      <th>1</th>\n",
       "      <td>dtkChhxpiWEd</td>\n",
       "      <td>markdown</td>\n",
       "      <td>%%R\\n#**Remodelagem de Dados com R** \\n\\n</td>\n",
       "      <td>pt</td>\n",
       "    </tr>\n",
       "    <tr>\n",
       "      <th>2</th>\n",
       "      <td>SQ7FqxHo94I5</td>\n",
       "      <td>markdown</td>\n",
       "      <td>**tidyr** - Remodelagem de Dados, **Formatação...</td>\n",
       "      <td>pt</td>\n",
       "    </tr>\n",
       "    <tr>\n",
       "      <th>3</th>\n",
       "      <td>e9LawpdlRsqB</td>\n",
       "      <td>markdown</td>\n",
       "      <td>---</td>\n",
       "      <td>None</td>\n",
       "    </tr>\n",
       "    <tr>\n",
       "      <th>4</th>\n",
       "      <td>H0wA38-qIhZj</td>\n",
       "      <td>markdown</td>\n",
       "      <td>\\n#**tidyr - Remodelagem de Dados**</td>\n",
       "      <td>pt</td>\n",
       "    </tr>\n",
       "    <tr>\n",
       "      <th>6</th>\n",
       "      <td>S1yYa43f8Ypq</td>\n",
       "      <td>markdown</td>\n",
       "      <td>## Dados de notas em disciplinas\\n</td>\n",
       "      <td>pt</td>\n",
       "    </tr>\n",
       "  </tbody>\n",
       "</table>\n",
       "</div>"
      ],
      "text/plain": [
       "        cell_id cell_type                                            content  \\\n",
       "1  dtkChhxpiWEd  markdown          %%R\\n#**Remodelagem de Dados com R** \\n\\n   \n",
       "2  SQ7FqxHo94I5  markdown  **tidyr** - Remodelagem de Dados, **Formatação...   \n",
       "3  e9LawpdlRsqB  markdown                                                ---   \n",
       "4  H0wA38-qIhZj  markdown                \\n#**tidyr - Remodelagem de Dados**   \n",
       "6  S1yYa43f8Ypq  markdown                 ## Dados de notas em disciplinas\\n   \n",
       "\n",
       "  language  \n",
       "1       pt  \n",
       "2       pt  \n",
       "3     None  \n",
       "4       pt  \n",
       "6       pt  "
      ]
     },
     "execution_count": 14,
     "metadata": {},
     "output_type": "execute_result"
    }
   ],
   "source": [
    "dfMark.head()"
   ]
  },
  {
   "cell_type": "code",
   "execution_count": 15,
   "id": "ace222da",
   "metadata": {},
   "outputs": [],
   "source": [
    "dfCode = df.copy().loc[df['cell_type'] == 'code']"
   ]
  },
  {
   "cell_type": "code",
   "execution_count": 16,
   "id": "5e1b4ee7",
   "metadata": {},
   "outputs": [
    {
     "data": {
      "text/html": [
       "<div>\n",
       "<style scoped>\n",
       "    .dataframe tbody tr th:only-of-type {\n",
       "        vertical-align: middle;\n",
       "    }\n",
       "\n",
       "    .dataframe tbody tr th {\n",
       "        vertical-align: top;\n",
       "    }\n",
       "\n",
       "    .dataframe thead th {\n",
       "        text-align: right;\n",
       "    }\n",
       "</style>\n",
       "<table border=\"1\" class=\"dataframe\">\n",
       "  <thead>\n",
       "    <tr style=\"text-align: right;\">\n",
       "      <th></th>\n",
       "      <th>cell_id</th>\n",
       "      <th>cell_type</th>\n",
       "      <th>content</th>\n",
       "    </tr>\n",
       "  </thead>\n",
       "  <tbody>\n",
       "    <tr>\n",
       "      <th>0</th>\n",
       "      <td>2h-2I4CviFCR</td>\n",
       "      <td>code</td>\n",
       "      <td># activate R magic\\n%load_ext rpy2.ipython</td>\n",
       "    </tr>\n",
       "    <tr>\n",
       "      <th>5</th>\n",
       "      <td>D_asKHU5InrK</td>\n",
       "      <td>code</td>\n",
       "      <td>%%R\\n# Instalando os pacotes\\ninstall.packages...</td>\n",
       "    </tr>\n",
       "    <tr>\n",
       "      <th>7</th>\n",
       "      <td>t8-yfSYtIyJr</td>\n",
       "      <td>code</td>\n",
       "      <td>%%R\\ndados &lt;- data.frame(\\n    Nome = c(\"Geogr...</td>\n",
       "    </tr>\n",
       "    <tr>\n",
       "      <th>10</th>\n",
       "      <td>wZoIj_cgLAcH</td>\n",
       "      <td>code</td>\n",
       "      <td>%%R\\ndados %&gt;% \\n  gather(Regiao, NotaFinal, R...</td>\n",
       "    </tr>\n",
       "    <tr>\n",
       "      <th>14</th>\n",
       "      <td>Y-0T1uJFLFn-</td>\n",
       "      <td>code</td>\n",
       "      <td>%%R \\n set.seed(10)\\n df2 = data.frame(\\n    i...</td>\n",
       "    </tr>\n",
       "  </tbody>\n",
       "</table>\n",
       "</div>"
      ],
      "text/plain": [
       "         cell_id cell_type                                            content\n",
       "0   2h-2I4CviFCR      code         # activate R magic\\n%load_ext rpy2.ipython\n",
       "5   D_asKHU5InrK      code  %%R\\n# Instalando os pacotes\\ninstall.packages...\n",
       "7   t8-yfSYtIyJr      code  %%R\\ndados <- data.frame(\\n    Nome = c(\"Geogr...\n",
       "10  wZoIj_cgLAcH      code  %%R\\ndados %>% \\n  gather(Regiao, NotaFinal, R...\n",
       "14  Y-0T1uJFLFn-      code  %%R \\n set.seed(10)\\n df2 = data.frame(\\n    i..."
      ]
     },
     "execution_count": 16,
     "metadata": {},
     "output_type": "execute_result"
    }
   ],
   "source": [
    "dfCode.head()"
   ]
  },
  {
   "cell_type": "code",
   "execution_count": 17,
   "id": "8204adc9",
   "metadata": {},
   "outputs": [],
   "source": [
    "dfCode.loc[:, 'count_call'] = dfCode.apply(countCallFunc, axis=1)"
   ]
  },
  {
   "cell_type": "code",
   "execution_count": 18,
   "id": "51ff6650",
   "metadata": {},
   "outputs": [
    {
     "data": {
      "text/html": [
       "<div>\n",
       "<style scoped>\n",
       "    .dataframe tbody tr th:only-of-type {\n",
       "        vertical-align: middle;\n",
       "    }\n",
       "\n",
       "    .dataframe tbody tr th {\n",
       "        vertical-align: top;\n",
       "    }\n",
       "\n",
       "    .dataframe thead th {\n",
       "        text-align: right;\n",
       "    }\n",
       "</style>\n",
       "<table border=\"1\" class=\"dataframe\">\n",
       "  <thead>\n",
       "    <tr style=\"text-align: right;\">\n",
       "      <th></th>\n",
       "      <th>cell_id</th>\n",
       "      <th>cell_type</th>\n",
       "      <th>content</th>\n",
       "      <th>count_call</th>\n",
       "    </tr>\n",
       "  </thead>\n",
       "  <tbody>\n",
       "    <tr>\n",
       "      <th>0</th>\n",
       "      <td>2h-2I4CviFCR</td>\n",
       "      <td>code</td>\n",
       "      <td># activate R magic\\n%load_ext rpy2.ipython</td>\n",
       "      <td>0</td>\n",
       "    </tr>\n",
       "    <tr>\n",
       "      <th>5</th>\n",
       "      <td>D_asKHU5InrK</td>\n",
       "      <td>code</td>\n",
       "      <td>%%R\\n# Instalando os pacotes\\ninstall.packages...</td>\n",
       "      <td>4</td>\n",
       "    </tr>\n",
       "    <tr>\n",
       "      <th>7</th>\n",
       "      <td>t8-yfSYtIyJr</td>\n",
       "      <td>code</td>\n",
       "      <td>%%R\\ndados &lt;- data.frame(\\n    Nome = c(\"Geogr...</td>\n",
       "      <td>4</td>\n",
       "    </tr>\n",
       "    <tr>\n",
       "      <th>10</th>\n",
       "      <td>wZoIj_cgLAcH</td>\n",
       "      <td>code</td>\n",
       "      <td>%%R\\ndados %&gt;% \\n  gather(Regiao, NotaFinal, R...</td>\n",
       "      <td>1</td>\n",
       "    </tr>\n",
       "    <tr>\n",
       "      <th>14</th>\n",
       "      <td>Y-0T1uJFLFn-</td>\n",
       "      <td>code</td>\n",
       "      <td>%%R \\n set.seed(10)\\n df2 = data.frame(\\n    i...</td>\n",
       "      <td>9</td>\n",
       "    </tr>\n",
       "  </tbody>\n",
       "</table>\n",
       "</div>"
      ],
      "text/plain": [
       "         cell_id cell_type                                            content  \\\n",
       "0   2h-2I4CviFCR      code         # activate R magic\\n%load_ext rpy2.ipython   \n",
       "5   D_asKHU5InrK      code  %%R\\n# Instalando os pacotes\\ninstall.packages...   \n",
       "7   t8-yfSYtIyJr      code  %%R\\ndados <- data.frame(\\n    Nome = c(\"Geogr...   \n",
       "10  wZoIj_cgLAcH      code  %%R\\ndados %>% \\n  gather(Regiao, NotaFinal, R...   \n",
       "14  Y-0T1uJFLFn-      code  %%R \\n set.seed(10)\\n df2 = data.frame(\\n    i...   \n",
       "\n",
       "    count_call  \n",
       "0            0  \n",
       "5            4  \n",
       "7            4  \n",
       "10           1  \n",
       "14           9  "
      ]
     },
     "execution_count": 18,
     "metadata": {},
     "output_type": "execute_result"
    }
   ],
   "source": [
    "dfCode.head()"
   ]
  }
 ],
 "metadata": {
  "kernelspec": {
   "display_name": "Python 3",
   "language": "python",
   "name": "python3"
  },
  "language_info": {
   "codemirror_mode": {
    "name": "ipython",
    "version": 3
   },
   "file_extension": ".py",
   "mimetype": "text/x-python",
   "name": "python",
   "nbconvert_exporter": "python",
   "pygments_lexer": "ipython3",
   "version": "3.9.2"
  }
 },
 "nbformat": 4,
 "nbformat_minor": 5
}
